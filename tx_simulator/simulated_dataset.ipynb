{
  "cells": [
    {
      "cell_type": "code",
      "execution_count": 1,
      "metadata": {
        "id": "A0brPtOsblkn"
      },
      "outputs": [],
      "source": [
        "# Necessary imports for this notebook\n",
        "import os\n",
        "\n",
        "import numpy as np\n",
        "import pandas as pd\n",
        "\n",
        "import datetime\n",
        "import time\n",
        "\n",
        "import random"
      ]
    },
    {
      "cell_type": "code",
      "execution_count": 2,
      "metadata": {
        "id": "LBt14Q7sxkxf"
      },
      "outputs": [],
      "source": [
        "DIR_OUTPUT = \"./simulated-data-raw/\"\n",
        "START_DATE = \"2020-04-01\"\n",
        "\n",
        "N_CUSTOMERS = 5000\n",
        "N_TERMINALS = 10000\n",
        "N_DAYS=183"
      ]
    },
    {
      "cell_type": "code",
      "execution_count": 3,
      "metadata": {
        "id": "5DBCrMhyb1aZ"
      },
      "outputs": [],
      "source": [
        "def generate_customer_profiles_table(n_customers, random_state=0):\n",
        "    \n",
        "    np.random.seed(random_state)\n",
        "        \n",
        "    customer_id_properties=[]\n",
        "    \n",
        "    # Generate customer properties from random distributions \n",
        "    for customer_id in range(n_customers):\n",
        "        \n",
        "        x_customer_id = np.random.uniform(0,100)\n",
        "        y_customer_id = np.random.uniform(0,100)\n",
        "        \n",
        "        mean_amount = np.random.uniform(5,100) # Arbitrary (but sensible) value \n",
        "        std_amount = mean_amount/2 # Arbitrary (but sensible) value\n",
        "        \n",
        "        mean_nb_tx_per_day = np.random.uniform(0,4) # Arbitrary (but sensible) value \n",
        "        \n",
        "        customer_id_properties.append([customer_id,\n",
        "                                      x_customer_id, y_customer_id,\n",
        "                                      mean_amount, std_amount,\n",
        "                                      mean_nb_tx_per_day])\n",
        "        \n",
        "    customer_profiles_table = pd.DataFrame(customer_id_properties, columns=['CUSTOMER_ID',\n",
        "                                                                      'x_customer_id', 'y_customer_id',\n",
        "                                                                      'mean_amount', 'std_amount',\n",
        "                                                                      'mean_nb_tx_per_day'])\n",
        "    \n",
        "    return customer_profiles_table"
      ]
    },
    {
      "cell_type": "code",
      "execution_count": 4,
      "metadata": {
        "id": "Wnfy46a3cPdk"
      },
      "outputs": [],
      "source": [
        "def generate_terminal_profiles_table(n_terminals, random_state=0):\n",
        "    \n",
        "    np.random.seed(random_state)\n",
        "        \n",
        "    terminal_id_properties=[]\n",
        "    \n",
        "    # Generate terminal properties from random distributions \n",
        "    for terminal_id in range(n_terminals):\n",
        "        \n",
        "        x_terminal_id = np.random.uniform(0,100)\n",
        "        y_terminal_id = np.random.uniform(0,100)\n",
        "        \n",
        "        terminal_id_properties.append([terminal_id,\n",
        "                                      x_terminal_id, y_terminal_id])\n",
        "                                       \n",
        "    terminal_profiles_table = pd.DataFrame(terminal_id_properties, columns=['TERMINAL_ID',\n",
        "                                                                      'x_terminal_id', 'y_terminal_id'])\n",
        "    \n",
        "    return terminal_profiles_table"
      ]
    },
    {
      "cell_type": "code",
      "execution_count": 5,
      "metadata": {
        "id": "rg4AiuA0cXpe"
      },
      "outputs": [],
      "source": [
        "def get_list_terminals_within_radius(customer_profile, x_y_terminals, r):\n",
        "    \n",
        "    # Use numpy arrays in the following to speed up computations\n",
        "    \n",
        "    # Location (x,y) of customer as numpy array\n",
        "    x_y_customer = customer_profile[['x_customer_id','y_customer_id']].values.astype(float)\n",
        "    \n",
        "    # Squared difference in coordinates between customer and terminal locations\n",
        "    squared_diff_x_y = np.square(x_y_customer - x_y_terminals)\n",
        "    \n",
        "    # Sum along rows and compute suared root to get distance\n",
        "    dist_x_y = np.sqrt(np.sum(squared_diff_x_y, axis=1))\n",
        "    \n",
        "    # Get the indices of terminals which are at a distance less than r\n",
        "    available_terminals = list(np.where(dist_x_y<r)[0])\n",
        "    \n",
        "    # Return the list of terminal IDs\n",
        "    return available_terminals"
      ]
    },
    {
      "cell_type": "code",
      "execution_count": 6,
      "metadata": {
        "id": "Dp_gZZqadzq6"
      },
      "outputs": [],
      "source": [
        "def generate_transactions_table(customer_profile, start_date = START_DATE, nb_days = 10):\n",
        "    \n",
        "    customer_transactions = []\n",
        "    \n",
        "    random.seed(int(customer_profile.CUSTOMER_ID))\n",
        "    np.random.seed(int(customer_profile.CUSTOMER_ID))\n",
        "    \n",
        "    # For all days\n",
        "    for day in range(nb_days):\n",
        "        \n",
        "        # Random number of transactions for that day \n",
        "        nb_tx = np.random.poisson(customer_profile.mean_nb_tx_per_day)\n",
        "        \n",
        "        # If nb_tx positive, let us generate transactions\n",
        "        if nb_tx>0:\n",
        "            \n",
        "            for tx in range(nb_tx):\n",
        "                \n",
        "                # Time of transaction: Around noon, std 20000 seconds. This choice aims at simulating the fact that \n",
        "                # most transactions occur during the day.\n",
        "                time_tx = int(np.random.normal(86400/2, 20000))\n",
        "                \n",
        "                # If transaction time between 0 and 86400, let us keep it, otherwise, let us discard it\n",
        "                if (time_tx>0) and (time_tx<86400):\n",
        "                    \n",
        "                    # Amount is drawn from a normal distribution  \n",
        "                    amount = np.random.normal(customer_profile.mean_amount, customer_profile.std_amount)\n",
        "                    \n",
        "                    # If amount negative, draw from a uniform distribution\n",
        "                    if amount<0:\n",
        "                        amount = np.random.uniform(0,customer_profile.mean_amount*2)\n",
        "                    \n",
        "                    amount=np.round(amount,decimals=2)\n",
        "                    \n",
        "                    if len(customer_profile.available_terminals)>0:\n",
        "                        \n",
        "                        terminal_id = random.choice(customer_profile.available_terminals)\n",
        "                    \n",
        "                        customer_transactions.append([time_tx+day*86400, day,\n",
        "                                                      customer_profile.CUSTOMER_ID, \n",
        "                                                      terminal_id, amount])\n",
        "            \n",
        "    customer_transactions = pd.DataFrame(customer_transactions, columns=['TX_TIME_SECONDS', 'TX_TIME_DAYS', 'CUSTOMER_ID', 'TERMINAL_ID', 'TX_AMOUNT'])\n",
        "    \n",
        "    if len(customer_transactions)>0:\n",
        "        customer_transactions['TX_DATETIME'] = pd.to_datetime(customer_transactions[\"TX_TIME_SECONDS\"], unit='s', origin=start_date)\n",
        "        customer_transactions=customer_transactions[['TX_DATETIME','CUSTOMER_ID', 'TERMINAL_ID', 'TX_AMOUNT','TX_TIME_SECONDS', 'TX_TIME_DAYS']]\n",
        "    \n",
        "    return customer_transactions  "
      ]
    },
    {
      "cell_type": "code",
      "execution_count": 7,
      "metadata": {
        "id": "mMKU3HkfeO3-"
      },
      "outputs": [],
      "source": [
        "def generate_dataset(n_customers = 10000, n_terminals = 1000000, nb_days=90, start_date=START_DATE, r=5):\n",
        "    \n",
        "    start_time=time.time()\n",
        "    customer_profiles_table = generate_customer_profiles_table(n_customers, random_state = 0)\n",
        "    print(\"Time to generate customer profiles table: {0:.2}s\".format(time.time()-start_time))\n",
        "    \n",
        "    start_time=time.time()\n",
        "    terminal_profiles_table = generate_terminal_profiles_table(n_terminals, random_state = 1)\n",
        "    print(\"Time to generate terminal profiles table: {0:.2}s\".format(time.time()-start_time))\n",
        "    \n",
        "    start_time=time.time()\n",
        "    x_y_terminals = terminal_profiles_table[['x_terminal_id','y_terminal_id']].values.astype(float)\n",
        "    customer_profiles_table['available_terminals'] = customer_profiles_table.apply(lambda x : get_list_terminals_within_radius(x, x_y_terminals=x_y_terminals, r=r), axis=1)\n",
        "    # With Pandarallel\n",
        "    #customer_profiles_table['available_terminals'] = customer_profiles_table.parallel_apply(lambda x : get_list_closest_terminals(x, x_y_terminals=x_y_terminals, r=r), axis=1)\n",
        "    customer_profiles_table['nb_terminals']=customer_profiles_table.available_terminals.apply(len)\n",
        "    print(\"Time to associate terminals to customers: {0:.2}s\".format(time.time()-start_time))\n",
        "    \n",
        "    start_time=time.time()\n",
        "    transactions_df=customer_profiles_table.groupby('CUSTOMER_ID').apply(lambda x : generate_transactions_table(x.iloc[0], nb_days=nb_days)).reset_index(drop=True)\n",
        "    # With Pandarallel\n",
        "    #transactions_df=customer_profiles_table.groupby('CUSTOMER_ID').parallel_apply(lambda x : generate_transactions_table(x.iloc[0], nb_days=nb_days)).reset_index(drop=True)\n",
        "    print(\"Time to generate transactions: {0:.2}s\".format(time.time()-start_time))\n",
        "    \n",
        "    # Sort transactions chronologically\n",
        "    transactions_df=transactions_df.sort_values('TX_DATETIME')\n",
        "    # Reset indices, starting from 0\n",
        "    transactions_df.reset_index(inplace=True,drop=True)\n",
        "    transactions_df.reset_index(inplace=True)\n",
        "    # TRANSACTION_ID are the dataframe indices, starting from 0\n",
        "    transactions_df.rename(columns = {'index':'TRANSACTION_ID'}, inplace = True)\n",
        "    \n",
        "    return (customer_profiles_table, terminal_profiles_table, transactions_df)\n",
        "    "
      ]
    },
    {
      "cell_type": "code",
      "execution_count": 8,
      "metadata": {
        "id": "t-U7v4Pzhqee"
      },
      "outputs": [],
      "source": [
        "def add_frauds(customer_profiles_table, terminal_profiles_table, transactions_df):\n",
        "    \n",
        "    # By default, all transactions are genuine\n",
        "    transactions_df['TX_FRAUD']=0\n",
        "    transactions_df['TX_FRAUD_SCENARIO']=0\n",
        "    \n",
        "    # Scenario 1\n",
        "    transactions_df.loc[transactions_df.TX_AMOUNT>220, 'TX_FRAUD']=1\n",
        "    transactions_df.loc[transactions_df.TX_AMOUNT>220, 'TX_FRAUD_SCENARIO']=1\n",
        "    nb_frauds_scenario_1=transactions_df.TX_FRAUD.sum()\n",
        "    print(\"Number of frauds from scenario 1: \"+str(nb_frauds_scenario_1))\n",
        "    \n",
        "    # Scenario 2\n",
        "    for day in range(transactions_df.TX_TIME_DAYS.max()):\n",
        "        \n",
        "        compromised_terminals = terminal_profiles_table.TERMINAL_ID.sample(n=2, random_state=day)\n",
        "        \n",
        "        compromised_transactions=transactions_df[(transactions_df.TX_TIME_DAYS>=day) & \n",
        "                                                    (transactions_df.TX_TIME_DAYS<day+28) & \n",
        "                                                    (transactions_df.TERMINAL_ID.isin(compromised_terminals))]\n",
        "                            \n",
        "        transactions_df.loc[compromised_transactions.index,'TX_FRAUD']=1\n",
        "        transactions_df.loc[compromised_transactions.index,'TX_FRAUD_SCENARIO']=2\n",
        "    \n",
        "    nb_frauds_scenario_2=transactions_df.TX_FRAUD.sum()-nb_frauds_scenario_1\n",
        "    print(\"Number of frauds from scenario 2: \"+str(nb_frauds_scenario_2))\n",
        "    \n",
        "    # Scenario 3\n",
        "    for day in range(transactions_df.TX_TIME_DAYS.max()):\n",
        "        \n",
        "        compromised_customers = customer_profiles_table.CUSTOMER_ID.sample(n=3, random_state=day).values\n",
        "        \n",
        "        compromised_transactions=transactions_df[(transactions_df.TX_TIME_DAYS>=day) & \n",
        "                                                    (transactions_df.TX_TIME_DAYS<day+14) & \n",
        "                                                    (transactions_df.CUSTOMER_ID.isin(compromised_customers))]\n",
        "        \n",
        "        nb_compromised_transactions=len(compromised_transactions)\n",
        "        \n",
        "        \n",
        "        random.seed(day)\n",
        "        index_fauds = random.sample(list(compromised_transactions.index.values),k=int(nb_compromised_transactions/3))\n",
        "        \n",
        "        transactions_df.loc[index_fauds,'TX_AMOUNT']=transactions_df.loc[index_fauds,'TX_AMOUNT']*5\n",
        "        transactions_df.loc[index_fauds,'TX_FRAUD']=1\n",
        "        transactions_df.loc[index_fauds,'TX_FRAUD_SCENARIO']=3\n",
        "        \n",
        "                             \n",
        "    nb_frauds_scenario_3=transactions_df.TX_FRAUD.sum()-nb_frauds_scenario_2-nb_frauds_scenario_1\n",
        "    print(\"Number of frauds from scenario 3: \"+str(nb_frauds_scenario_3))\n",
        "    \n",
        "    return transactions_df  "
      ]
    },
    {
      "cell_type": "code",
      "execution_count": null,
      "metadata": {
        "colab": {
          "base_uri": "https://localhost:8080/"
        },
        "id": "zcuTlBJreaVS",
        "outputId": "8a2fb238-64cd-4af4-839f-d1816a3365f8"
      },
      "outputs": [],
      "source": [
        "(customer_profiles_table, terminal_profiles_table, transactions_df)=\\\n",
        "    generate_dataset(n_customers = N_CUSTOMERS, \n",
        "                     n_terminals = N_TERMINALS, \n",
        "                     nb_days=N_DAYS, \n",
        "                     start_date=START_DATE, \n",
        "                     r=5)"
      ]
    },
    {
      "cell_type": "code",
      "execution_count": null,
      "metadata": {
        "colab": {
          "base_uri": "https://localhost:8080/"
        },
        "id": "JEc4cxjjh5ms",
        "outputId": "027e2011-5510-406c-9c64-629ef3398d71"
      },
      "outputs": [],
      "source": [
        "%time transactions_df = add_frauds(customer_profiles_table, terminal_profiles_table, transactions_df)"
      ]
    },
    {
      "cell_type": "code",
      "execution_count": 11,
      "metadata": {
        "id": "zj61a5ymig4K"
      },
      "outputs": [],
      "source": [
        "if not os.path.exists(DIR_OUTPUT):\n",
        "    os.makedirs(DIR_OUTPUT)\n",
        "\n",
        "start_date = datetime.datetime.strptime(START_DATE, \"%Y-%m-%d\")\n",
        "\n",
        "for day in range(transactions_df.TX_TIME_DAYS.max()+1):\n",
        "    \n",
        "    transactions_day = transactions_df[transactions_df.TX_TIME_DAYS==day].sort_values('TX_TIME_SECONDS')\n",
        "    \n",
        "    date = start_date + datetime.timedelta(days=day)\n",
        "    filename_output = date.strftime(\"%Y-%m-%d\")+'.csv'\n",
        "    transactions_day.to_csv(DIR_OUTPUT+filename_output)\n",
        "\n",
        "# also save the customer and terminal data\n",
        "terminal_profiles_table.to_pickle('terminal_profiles_table.pkl', protocol=4)\n",
        "customer_profiles_table.to_pickle('customer_profiles_table.pkl', protocol=4)"
      ]
    }
  ],
  "metadata": {
    "colab": {
      "collapsed_sections": [],
      "name": "simulated_dataset.ipynb",
      "provenance": []
    },
    "kernelspec": {
      "display_name": "Python 3",
      "name": "python3"
    },
    "language_info": {
      "name": "python"
    }
  },
  "nbformat": 4,
  "nbformat_minor": 0
}
