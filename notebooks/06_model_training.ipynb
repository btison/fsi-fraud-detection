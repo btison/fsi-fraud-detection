{
 "cells": [
  {
   "cell_type": "code",
   "execution_count": null,
   "id": "bc318832",
   "metadata": {},
   "outputs": [],
   "source": [
    "import os\n",
    "import sys\n",
    "import boto3\n",
    "import datetime\n",
    "import pandas as pd\n",
    "import cloudpickle as cp\n",
    "\n",
    "from pathlib import Path\n",
    "from dotenv import load_dotenv\n",
    "\n",
    "from sklearn import model_selection\n",
    "from sklearn.linear_model import LogisticRegression\n",
    "\n",
    "from shared import load_csv_from_dir, save_transactions_day\n",
    "\n",
    "load_dotenv()\n"
   ]
  },
  {
   "cell_type": "code",
   "execution_count": null,
   "id": "e3f50ae7",
   "metadata": {},
   "outputs": [],
   "source": [
    "local_prefix = './data/'\n",
    "INPUT_DIR = 'training'\n",
    "OUTPUT_DIR = 'models/'\n",
    "\n",
    "input_features_all = ['TX_AMOUNT', 'TX_DURING_WEEKEND', 'TX_DURING_NIGHT', 'CUSTOMER_ID_NB_TX_1DAY_WINDOW',\n",
    "                      'CUSTOMER_ID_AVG_AMOUNT_1DAY_WINDOW', 'CUSTOMER_ID_NB_TX_7DAY_WINDOW',\n",
    "                      'CUSTOMER_ID_AVG_AMOUNT_7DAY_WINDOW', 'CUSTOMER_ID_NB_TX_30DAY_WINDOW',\n",
    "                      'CUSTOMER_ID_AVG_AMOUNT_30DAY_WINDOW', 'TERMINAL_ID_NB_TX_1DAY_WINDOW',\n",
    "                      'TERMINAL_ID_RISK_1DAY_WINDOW', 'TERMINAL_ID_NB_TX_7DAY_WINDOW',\n",
    "                      'TERMINAL_ID_RISK_7DAY_WINDOW', 'TERMINAL_ID_NB_TX_30DAY_WINDOW',\n",
    "                      'TERMINAL_ID_RISK_30DAY_WINDOW']\n",
    "\n",
    "input_features_medium = ['TX_AMOUNT', 'TX_DURING_WEEKEND', 'TX_DURING_NIGHT',\n",
    "                           'TERMINAL_ID', 'CUSTOMER_ID_NB_TX_1DAY_WINDOW',\n",
    "                           'CUSTOMER_ID_AVG_AMOUNT_1DAY_WINDOW', 'CUSTOMER_ID_NB_TX_7DAY_WINDOW',\n",
    "                           'CUSTOMER_ID_AVG_AMOUNT_7DAY_WINDOW', 'CUSTOMER_ID_NB_TX_30DAY_WINDOW',\n",
    "                           'CUSTOMER_ID_AVG_AMOUNT_30DAY_WINDOW', 'TERMINAL_ID_NB_TX_1DAY_WINDOW']\n",
    "\n",
    "input_features_minimum = ['TX_AMOUNT',\n",
    "                          'TX_DURING_WEEKEND', 'TX_DURING_NIGHT', 'TERMINAL_ID']\n",
    "\n",
    "output_feature = \"TX_FRAUD_PREDICTION\"\n"
   ]
  },
  {
   "cell_type": "code",
   "execution_count": null,
   "id": "bdf88064",
   "metadata": {},
   "outputs": [],
   "source": [
    "START_DATE = '2020-04-01'\n",
    "END_DATE = '2020-04-30'\n",
    "\n",
    "input_features = input_features_minimum\n",
    "training_iterations = 2000"
   ]
  },
  {
   "cell_type": "code",
   "execution_count": null,
   "id": "88f9de3e",
   "metadata": {},
   "outputs": [],
   "source": [
    "# load the merged data and create the training/test sets\n",
    "input_dir = local_prefix + INPUT_DIR\n",
    "\n",
    "tx_df = load_csv_from_dir(input_dir, START_DATE, END_DATE)\n",
    "tx_df['TX_DATETIME'] = pd.to_datetime(tx_df['TX_DATETIME'])\n",
    "\n",
    "train_df, test_df = model_selection.train_test_split(tx_df, random_state=43)"
   ]
  },
  {
   "cell_type": "code",
   "execution_count": null,
   "id": "1bc1654d",
   "metadata": {},
   "outputs": [],
   "source": [
    "# fit the model\n",
    "lr = LogisticRegression(max_iter=training_iterations)\n",
    "lr.fit(train_df[input_features], train_df[output_feature])"
   ]
  },
  {
   "cell_type": "code",
   "execution_count": null,
   "id": "65c0e56f",
   "metadata": {},
   "outputs": [],
   "source": [
    "# save the model/classifier\n",
    "output_dir = local_prefix + OUTPUT_DIR\n",
    "\n",
    "if not os.path.exists(output_dir):\n",
    "    os.makedirs(output_dir)\n",
    "\n",
    "ts = int(datetime.datetime.timestamp(datetime.datetime.now()) * 100000)\n",
    "\n",
    "# just serialize the object\n",
    "cp.dump(lr, open(output_dir+f\"model_{ts}.pkl\", \"wb\"))\n",
    "cp.dump(lr, open(output_dir+f\"model_latest.pkl\", \"wb\"))"
   ]
  }
 ],
 "metadata": {
  "kernelspec": {
   "display_name": "Python 3.9.12 ('venv': venv)",
   "language": "python",
   "name": "python3"
  },
  "language_info": {
   "codemirror_mode": {
    "name": "ipython",
    "version": 3
   },
   "file_extension": ".py",
   "mimetype": "text/x-python",
   "name": "python",
   "nbconvert_exporter": "python",
   "pygments_lexer": "ipython3",
   "version": "3.9.12"
  },
  "vscode": {
   "interpreter": {
    "hash": "fb07a80f420f2a3c6f994f3d4ceda3af88f46f0442cb787adf66c08d5cc259f7"
   }
  }
 },
 "nbformat": 4,
 "nbformat_minor": 5
}
