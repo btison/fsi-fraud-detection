{
 "cells": [
  {
   "cell_type": "code",
   "execution_count": null,
   "id": "bc318832",
   "metadata": {},
   "outputs": [],
   "source": [
    "import os\n",
    "import sys\n",
    "import boto3\n",
    "import datetime\n",
    "import pandas as pd\n",
    "import cloudpickle as cp\n",
    "\n",
    "from pathlib import Path\n",
    "from dotenv import load_dotenv\n",
    "\n",
    "from sklearn import model_selection\n",
    "from sklearn.linear_model import LogisticRegression\n",
    "\n",
    "from shared import load_csv_from_dir, save_transactions_day\n",
    "\n",
    "load_dotenv()\n"
   ]
  },
  {
   "cell_type": "code",
   "execution_count": null,
   "id": "e3f50ae7",
   "metadata": {},
   "outputs": [],
   "source": [
    "input_features_all = ['TX_AMOUNT', 'TX_DURING_WEEKEND', 'TX_DURING_NIGHT', 'CUSTOMER_ID_NB_TX_1DAY_WINDOW',\n",
    "                      'CUSTOMER_ID_AVG_AMOUNT_1DAY_WINDOW', 'CUSTOMER_ID_NB_TX_7DAY_WINDOW',\n",
    "                      'CUSTOMER_ID_AVG_AMOUNT_7DAY_WINDOW', 'CUSTOMER_ID_NB_TX_30DAY_WINDOW',\n",
    "                      'CUSTOMER_ID_AVG_AMOUNT_30DAY_WINDOW', 'TERMINAL_ID_NB_TX_1DAY_WINDOW',\n",
    "                      'TERMINAL_ID_RISK_1DAY_WINDOW', 'TERMINAL_ID_NB_TX_7DAY_WINDOW',\n",
    "                      'TERMINAL_ID_RISK_7DAY_WINDOW', 'TERMINAL_ID_NB_TX_30DAY_WINDOW',\n",
    "                      'TERMINAL_ID_RISK_30DAY_WINDOW']\n",
    "\n",
    "input_features_medium = ['TX_AMOUNT', 'TX_DURING_WEEKEND', 'TX_DURING_NIGHT',\n",
    "                         'TERMINAL_ID', 'CUSTOMER_ID_NB_TX_1DAY_WINDOW',\n",
    "                         'CUSTOMER_ID_AVG_AMOUNT_1DAY_WINDOW', 'CUSTOMER_ID_NB_TX_7DAY_WINDOW',\n",
    "                         'CUSTOMER_ID_AVG_AMOUNT_7DAY_WINDOW', 'CUSTOMER_ID_NB_TX_30DAY_WINDOW',\n",
    "                         'CUSTOMER_ID_AVG_AMOUNT_30DAY_WINDOW', 'TERMINAL_ID_NB_TX_1DAY_WINDOW']\n",
    "\n",
    "input_features_minimum = ['TX_AMOUNT',\n",
    "                          'TX_DURING_WEEKEND', 'TX_DURING_NIGHT', 'TERMINAL_ID']\n",
    "\n",
    "output_feature = \"TX_FRAUD_PREDICTION\"\n"
   ]
  },
  {
   "cell_type": "code",
   "execution_count": null,
   "id": "bdf88064",
   "metadata": {},
   "outputs": [],
   "source": [
    "START_DATE = os.getenv('START_DATE', '2020-04-01')\n",
    "END_DATE = os.getenv('END_DATE', '2020-04-30')\n"
   ]
  },
  {
   "cell_type": "code",
   "execution_count": null,
   "id": "d9ba7bb6",
   "metadata": {},
   "outputs": [],
   "source": [
    "def train_model(start_date, end_date, workspace='./data/', input='training', output='models/', input_features=['TX_AMOUNT', 'TX_DURING_WEEKEND', 'TX_DURING_NIGHT', 'TERMINAL_ID'], output_feature='TX_FRAUD_PREDICTION', iter=2000, base_name='model'):\n",
    "    # load the training data and create the training/test sets\n",
    "    tx_df = load_csv_from_dir(workspace + input, start_date, end_date)\n",
    "    tx_df['TX_DATETIME'] = pd.to_datetime(tx_df['TX_DATETIME'])\n",
    "\n",
    "    # split in training and test data\n",
    "    train_df, test_df = model_selection.train_test_split(\n",
    "        tx_df, random_state=43)\n",
    "\n",
    "    # fit the model\n",
    "    lr = LogisticRegression(max_iter=iter)\n",
    "    lr.fit(train_df[input_features], train_df[output_feature])\n",
    "\n",
    "    # save the model/classifier\n",
    "    output_dir = workspace + output\n",
    "\n",
    "    if not os.path.exists(output_dir):\n",
    "        os.makedirs(output_dir)\n",
    "\n",
    "    ts = int(datetime.datetime.timestamp(datetime.datetime.now()) * 100000)\n",
    "\n",
    "    # just serialize the object\n",
    "    cp.dump(lr, open(output_dir+f\"{base_name}_{ts}.pkl\", \"wb\"))\n",
    "    cp.dump(lr, open(output_dir+f\"{base_name}_latest.pkl\", \"wb\"))\n"
   ]
  },
  {
   "cell_type": "code",
   "execution_count": null,
   "id": "b7122d8c",
   "metadata": {},
   "outputs": [],
   "source": [
    "train_model(START_DATE, END_DATE)"
   ]
  }
 ],
 "metadata": {
  "kernelspec": {
   "display_name": "Python 3.9.12 ('venv': venv)",
   "language": "python",
   "name": "python3"
  },
  "language_info": {
   "codemirror_mode": {
    "name": "ipython",
    "version": 3
   },
   "file_extension": ".py",
   "mimetype": "text/x-python",
   "name": "python",
   "nbconvert_exporter": "python",
   "pygments_lexer": "ipython3",
   "version": "3.9.12"
  },
  "vscode": {
   "interpreter": {
    "hash": "fb07a80f420f2a3c6f994f3d4ceda3af88f46f0442cb787adf66c08d5cc259f7"
   }
  }
 },
 "nbformat": 4,
 "nbformat_minor": 5
}
