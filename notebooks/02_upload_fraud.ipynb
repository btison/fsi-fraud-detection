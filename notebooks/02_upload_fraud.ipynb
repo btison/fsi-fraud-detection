{
 "cells": [
  {
   "cell_type": "code",
   "execution_count": null,
   "id": "b87871b3",
   "metadata": {},
   "outputs": [],
   "source": [
    "import os\n",
    "import sys\n",
    "\n",
    "from shared import load_csv_from_dir, post_to_kafka_bridge\n",
    "\n",
    "from dotenv import load_dotenv\n",
    "load_dotenv()\n"
   ]
  },
  {
   "cell_type": "code",
   "execution_count": null,
   "id": "5a0deb2a",
   "metadata": {},
   "outputs": [],
   "source": [
    "START = '2020-04-01'\n",
    "END = '2020-04-10'\n"
   ]
  },
  {
   "cell_type": "code",
   "execution_count": null,
   "id": "678094c1",
   "metadata": {},
   "outputs": [],
   "source": [
    "def upload_fraud(bridge, topic='tx-fraud-sim', start='2020-04-01', end='2020-04-01', loc='./data/synthetic/fraud/', batch_size=100):\n",
    "\n",
    "    KAFKA_ENDPOINT = f\"{bridge}/topics/{topic}\"\n",
    "\n",
    "    # read the raw transaction data\n",
    "    transactions_df = load_csv_from_dir(loc, start, end)\n",
    "    NUM_TX = len(transactions_df)\n",
    "\n",
    "    batch = []\n",
    "\n",
    "    for index, row in transactions_df.iterrows():\n",
    "        batch.append(row)\n",
    "\n",
    "        if len(batch) % batch_size == 0:\n",
    "            post_to_kafka_bridge(KAFKA_ENDPOINT, batch)\n",
    "\n",
    "            batch = []\n",
    "            print(f\" --> uploaded {index+1}/{NUM_TX}\")\n",
    "\n",
    "    if len(batch) > 0:\n",
    "        post_to_kafka_bridge(KAFKA_ENDPOINT, batch)\n",
    "        print(f\" --> uploaded remaining {len(batch)}/{NUM_TX}\")\n"
   ]
  },
  {
   "cell_type": "code",
   "execution_count": null,
   "id": "33da5a1c",
   "metadata": {},
   "outputs": [],
   "source": [
    "bridge_endpoint = os.getenv('kafka_bridge_endpoint')\n",
    "if bridge_endpoint == None:\n",
    "    print(\"Missing ENV['kafka_bridge_endpoint']\")\n",
    "    sys.exit()\n",
    "else:\n",
    "    bridge_endpoint = bridge_endpoint.lstrip('\"').rstrip('\"')\n",
    "    print(f\"Using endpoint '{bridge_endpoint}'\")\n"
   ]
  },
  {
   "cell_type": "code",
   "execution_count": null,
   "id": "5bc61be0",
   "metadata": {},
   "outputs": [],
   "source": [
    "print(f\" --> Uploading fraud data from {START} to {END}\")\n",
    "\n",
    "upload_fraud(bridge_endpoint, start=START, end=END)\n",
    "\n",
    "print(\" --> DONE.\")\n"
   ]
  }
 ],
 "metadata": {
  "kernelspec": {
   "display_name": "Python 3.9.12 ('venv': venv)",
   "language": "python",
   "name": "python3"
  },
  "language_info": {
   "codemirror_mode": {
    "name": "ipython",
    "version": 3
   },
   "file_extension": ".py",
   "mimetype": "text/x-python",
   "name": "python",
   "nbconvert_exporter": "python",
   "pygments_lexer": "ipython3",
   "version": "3.9.12"
  },
  "vscode": {
   "interpreter": {
    "hash": "fb07a80f420f2a3c6f994f3d4ceda3af88f46f0442cb787adf66c08d5cc259f7"
   }
  }
 },
 "nbformat": 4,
 "nbformat_minor": 5
}
