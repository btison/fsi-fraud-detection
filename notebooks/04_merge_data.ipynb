{
 "cells": [
  {
   "cell_type": "code",
   "execution_count": null,
   "id": "bc318832",
   "metadata": {},
   "outputs": [],
   "source": [
    "import os\n",
    "import sys\n",
    "import boto3\n",
    "import datetime\n",
    "import pandas as pd\n",
    "\n",
    "from pathlib import Path\n",
    "from dotenv import load_dotenv\n",
    "\n",
    "from shared import load_transactions, save_transactions_day, download_bucket_folder\n",
    "\n",
    "load_dotenv()\n"
   ]
  },
  {
   "cell_type": "code",
   "execution_count": null,
   "id": "bdf88064",
   "metadata": {},
   "outputs": [],
   "source": [
    "START_DATE = '2020-04-01'\n",
    "\n",
    "TX_DIR = 'archive'\n",
    "FRAUD_TX_DIR = 'fraud'\n",
    "\n",
    "OUTPUT_DIR = 'merged/'\n",
    "local_prefix = './data/'"
   ]
  },
  {
   "cell_type": "code",
   "execution_count": null,
   "id": "d4b50fe5",
   "metadata": {},
   "outputs": [],
   "source": [
    "# get all the data from S3\n",
    "download_bucket_folder(TX_DIR)\n",
    "download_bucket_folder(FRAUD_TX_DIR)\n"
   ]
  },
  {
   "cell_type": "code",
   "execution_count": null,
   "id": "88f9de3e",
   "metadata": {},
   "outputs": [],
   "source": [
    "# load the archived data\n",
    "input_dir = local_prefix + TX_DIR\n",
    "\n",
    "files = [os.path.join(input_dir, f) for f in os.listdir(input_dir)]\n",
    "tx_df = load_transactions(files)\n"
   ]
  },
  {
   "cell_type": "code",
   "execution_count": null,
   "id": "3a98d2b6",
   "metadata": {},
   "outputs": [],
   "source": [
    "# load the fraud data\n",
    "input_dir = local_prefix + FRAUD_TX_DIR\n",
    "\n",
    "files = [os.path.join(input_dir, f) for f in os.listdir(input_dir)]\n",
    "fraud_df = load_transactions(files)\n"
   ]
  },
  {
   "cell_type": "code",
   "execution_count": null,
   "id": "cf4128de",
   "metadata": {},
   "outputs": [],
   "source": [
    "# sort by TXID\n",
    "tx_df = tx_df.sort_values('TRANSACTION_ID')\n",
    "tx_df.reset_index(drop=True, inplace=True)\n",
    "tx_df = tx_df.drop_duplicates()\n",
    "\n",
    "fraud_df = fraud_df.sort_values('TRANSACTION_ID')\n",
    "fraud_df.reset_index(drop=True, inplace=True)\n",
    "fraud_df = fraud_df.drop_duplicates()\n",
    "\n",
    "# merge fraud data into archived data\n",
    "\n",
    "for index, row in fraud_df.iterrows():\n",
    "    idx = tx_df.loc[tx_df['TRANSACTION_ID'] == row['TRANSACTION_ID']]\n",
    "    if len(idx) > 0:\n",
    "        tx_df.loc[idx.index, ['TX_FRAUD_SCENARIO']] = row['TX_FRAUD_SCENARIO']\n",
    "        tx_df.loc[idx.index, ['TX_FRAUD_PREDICTION']] = 1\n",
    "        tx_df.loc[idx.index, ['TX_FRAUD_PROBABILITY']] = 1.0\n",
    "\n",
    "# sort chronological\n",
    "tx_df = tx_df.sort_values('TX_DATETIME')\n",
    "tx_df.reset_index(drop=True, inplace=True)\n"
   ]
  },
  {
   "cell_type": "code",
   "execution_count": null,
   "id": "ab2a59d0",
   "metadata": {},
   "outputs": [],
   "source": [
    "# add columns that make sorting, grouping etc easier\n",
    "start_date = datetime.datetime.strptime(START_DATE, \"%Y-%m-%d\")\n",
    "\n",
    "tx_df['TX_TIME_SECONDS'] = pd.to_numeric(tx_df['TX_DATETIME']) / 1000000000\n",
    "tx_df['TX_TIME_SECONDS'] = tx_df['TX_TIME_SECONDS'].astype(int)\n",
    "\n",
    "tx_df['TX_TIME_DAYS'] = tx_df['TX_DATETIME'] - start_date\n",
    "tx_df['TX_TIME_DAYS'] = tx_df['TX_TIME_DAYS'].apply(lambda x: x.days)\n"
   ]
  },
  {
   "cell_type": "code",
   "execution_count": null,
   "id": "e8776aa1",
   "metadata": {},
   "outputs": [],
   "source": [
    "# save the merged data, grouped by day\n",
    "save_transactions_day(tx_df, START_DATE, output_dir=local_prefix + OUTPUT_DIR)\n"
   ]
  }
 ],
 "metadata": {
  "kernelspec": {
   "display_name": "Python 3.9.12 ('venv': venv)",
   "language": "python",
   "name": "python3"
  },
  "language_info": {
   "codemirror_mode": {
    "name": "ipython",
    "version": 3
   },
   "file_extension": ".py",
   "mimetype": "text/x-python",
   "name": "python",
   "nbconvert_exporter": "python",
   "pygments_lexer": "ipython3",
   "version": "3.9.12"
  },
  "vscode": {
   "interpreter": {
    "hash": "fb07a80f420f2a3c6f994f3d4ceda3af88f46f0442cb787adf66c08d5cc259f7"
   }
  }
 },
 "nbformat": 4,
 "nbformat_minor": 5
}
