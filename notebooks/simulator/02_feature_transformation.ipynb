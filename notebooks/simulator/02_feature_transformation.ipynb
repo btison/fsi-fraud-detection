{
 "cells": [
  {
   "cell_type": "code",
   "execution_count": null,
   "id": "fe1bf851",
   "metadata": {},
   "outputs": [],
   "source": [
    "import os\n",
    "import datetime\n",
    "\n",
    "from simulator.shared import read_from_files\n",
    "from simulator.transformer import *"
   ]
  },
  {
   "cell_type": "code",
   "execution_count": null,
   "id": "55b83b5a",
   "metadata": {},
   "outputs": [],
   "source": [
    "DIR_INPUT = \"./data/simulated-data/pkl/\"\n",
    "DIR_OUTPUT = \"./data/simulated-data/training/\""
   ]
  },
  {
   "cell_type": "code",
   "execution_count": null,
   "id": "bb37550a",
   "metadata": {},
   "outputs": [],
   "source": [
    "START_DATE = \"2020-04-01\"\n",
    "END_DATE = \"2020-04-30\""
   ]
  },
  {
   "cell_type": "code",
   "execution_count": null,
   "id": "fc1a9995",
   "metadata": {},
   "outputs": [],
   "source": [
    "# read the raw transaction data\n",
    "transactions_df = read_from_files(DIR_INPUT, START_DATE, END_DATE)"
   ]
  },
  {
   "cell_type": "code",
   "execution_count": null,
   "id": "8da6baf5",
   "metadata": {},
   "outputs": [],
   "source": [
    "# Add two features to the transactions:\n",
    "# The first one will characterize whether a transaction occurs during a weekday or during the weekend.\n",
    "# The second will characterize whether a transaction occurs during the day or the night.\n",
    "transactions_df['TX_DURING_WEEKEND'] = transactions_df.TX_DATETIME.apply(\n",
    "    is_weekend)\n",
    "transactions_df['TX_DURING_NIGHT'] = transactions_df.TX_DATETIME.apply(\n",
    "    is_night)\n",
    "\n",
    "print(\"Added day-of-week/time-of-day flags.\")"
   ]
  },
  {
   "cell_type": "code",
   "execution_count": null,
   "id": "ede4567d",
   "metadata": {},
   "outputs": [],
   "source": [
    "# Customer ID transformations\n",
    "\n",
    "# We will take inspiration from the RFM (Recency, Frequency, Monetary value)\n",
    "# framework proposed in {cite}VANVLASSELAER201538, and compute two of these features over three time windows.\n",
    "\n",
    "transactions_df = transactions_df.groupby('CUSTOMER_ID').apply(\n",
    "    lambda x: get_customer_spending_behaviour_features(x, windows_size_in_days=[1, 7, 30]))\n",
    "transactions_df = transactions_df.sort_values(\n",
    "    'TX_DATETIME').reset_index(drop=True)\n",
    "\n",
    "print(\"Added customer spending data.\")"
   ]
  },
  {
   "cell_type": "code",
   "execution_count": null,
   "id": "a919371c",
   "metadata": {},
   "outputs": [],
   "source": [
    "# Terminal ID transformations\n",
    "\n",
    "# The main goal will be to extract a risk score, that assesses the exposure of a given terminal ID to fraudulent transactions.\n",
    "# The risk score will be defined as the average number of fraudulent transactions that occurred on a terminal ID over a time window.\n",
    "\n",
    "transactions_df = transactions_df.groupby('TERMINAL_ID').apply(lambda x: get_count_risk_rolling_window(\n",
    "    x, delay_period=7, windows_size_in_days=[1, 7, 30], feature=\"TERMINAL_ID\"))\n",
    "transactions_df = transactions_df.sort_values(\n",
    "    'TX_DATETIME').reset_index(drop=True)\n",
    "\n",
    "print(\"Added terminal risk assesment.\")"
   ]
  },
  {
   "cell_type": "code",
   "execution_count": null,
   "id": "9c6f6327",
   "metadata": {},
   "outputs": [],
   "source": [
    "print(\"Saving transformed transactions ...\")\n",
    "\n",
    "if not os.path.exists(DIR_OUTPUT):\n",
    "    os.makedirs(DIR_OUTPUT)\n",
    "\n",
    "start_date = datetime.datetime.strptime(START_DATE, \"%Y-%m-%d\")\n",
    "\n",
    "for day in range(transactions_df.TX_TIME_DAYS.max()+1):\n",
    "    \n",
    "    transactions_day = transactions_df[transactions_df.TX_TIME_DAYS==day].sort_values('TX_TIME_SECONDS')\n",
    "    \n",
    "    date = start_date + datetime.timedelta(days=day)\n",
    "    filename_output = date.strftime(\"%Y-%m-%d\")\n",
    "    \n",
    "    # Protocol=4 required for Google Colab\n",
    "    transactions_day.to_pickle(DIR_OUTPUT+filename_output+'.pkl', protocol=4)\n",
    "    transactions_day.to_csv(DIR_OUTPUT+filename_output+'.csv')\n",
    "    transactions_day.to_parquet(DIR_OUTPUT+filename_output+'.parquet')\n",
    "\n",
    "print(\"done.\")"
   ]
  }
 ],
 "metadata": {
  "kernelspec": {
   "display_name": "Python 3 (ipykernel)",
   "language": "python",
   "name": "python3"
  },
  "language_info": {
   "codemirror_mode": {
    "name": "ipython",
    "version": 3
   },
   "file_extension": ".py",
   "mimetype": "text/x-python",
   "name": "python",
   "nbconvert_exporter": "python",
   "pygments_lexer": "ipython3",
   "version": "3.9.6"
  }
 },
 "nbformat": 4,
 "nbformat_minor": 5
}
