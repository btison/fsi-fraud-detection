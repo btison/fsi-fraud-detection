{
 "cells": [
  {
   "cell_type": "code",
   "execution_count": null,
   "id": "b87871b3",
   "metadata": {},
   "outputs": [],
   "source": [
    "import os\n",
    "import sys\n",
    "import json\n",
    "import time\n",
    "import argparse\n",
    "import requests\n",
    "import datetime\n",
    "\n",
    "from simulator.shared import read_from_files\n"
   ]
  },
  {
   "cell_type": "code",
   "execution_count": null,
   "id": "5a0deb2a",
   "metadata": {},
   "outputs": [],
   "source": [
    "START = '2020-04-01'\n",
    "END = '2020-04-02'\n",
    "\n",
    "BRIDGE = 'https://transaction-bridge-http-fsi-fraud-detection.apps.cluster-hxjfg.hxjfg.sandbox899.opentlc.com'"
   ]
  },
  {
   "cell_type": "code",
   "execution_count": null,
   "id": "eb9a701c",
   "metadata": {},
   "outputs": [],
   "source": [
    "def upload_transactions(bridge, topic='tx-inbox', start='2020-04-01', end='2020-04-02', loc='./data/simulated/pkl/', batch_size=100):\n",
    "\n",
    "    KAFKA_ENDPOINT = f\"{bridge}/topics/{topic}\"\n",
    "    KAFKA_HEADERS = {'content-type': 'application/vnd.kafka.json.v2+json'}\n",
    "\n",
    "    # read the raw transaction data\n",
    "    transactions_df = read_from_files(loc, start, end)\n",
    "\n",
    "    # remove the TX_FRAUD,TX_FRAUD_SCENARIO columns in order to simulate a 'new' transaction\n",
    "    transactions_df = transactions_df.drop(\n",
    "        ['TX_FRAUD', 'TX_FRAUD_SCENARIO'], axis=1)\n",
    "\n",
    "    NUM_TX = len(transactions_df)\n",
    "\n",
    "    batch = []\n",
    "\n",
    "    for index, row in transactions_df.iterrows():\n",
    "        batch.append(row)\n",
    "\n",
    "        if len(batch) % batch_size == 0:\n",
    "            payload = {\"records\": []}\n",
    "\n",
    "            for r in batch:\n",
    "                record = {'value': r.to_json()}\n",
    "                payload['records'].append(record)\n",
    "\n",
    "            # post the payload with backoff/retry in case the bridge gets overloaded ...\n",
    "            try:\n",
    "                success = False\n",
    "                retry = 0\n",
    "\n",
    "                while not success:\n",
    "                    r = requests.post(\n",
    "                        KAFKA_ENDPOINT, headers=KAFKA_HEADERS, json=payload)\n",
    "                    if r.status_code == 200:\n",
    "                        success = True\n",
    "                    else:\n",
    "                        retry = retry + 1\n",
    "                        if retry > 5:\n",
    "                            print('aborting...')\n",
    "                            sys.exit()\n",
    "                        time.sleep(retry * 2)\n",
    "                        print(f\"backing-off/retry {retry}/5\")\n",
    "            except:\n",
    "                print('exception/aborting...')\n",
    "                sys.exit()\n",
    "\n",
    "            batch = []\n",
    "            print(f\" --> uploaded {index+1}/{NUM_TX}\")\n"
   ]
  },
  {
   "cell_type": "code",
   "execution_count": null,
   "id": "5bc61be0",
   "metadata": {},
   "outputs": [],
   "source": [
    "print(f\" --> Replaying transactions from {START} to {END}\")\n",
    "\n",
    "upload_transactions(BRIDGE, start=START, end=END)\n",
    "\n",
    "print(\" --> DONE.\")"
   ]
  }
 ],
 "metadata": {
  "kernelspec": {
   "display_name": "Python 3 (ipykernel)",
   "language": "python",
   "name": "python3"
  },
  "language_info": {
   "codemirror_mode": {
    "name": "ipython",
    "version": 3
   },
   "file_extension": ".py",
   "mimetype": "text/x-python",
   "name": "python",
   "nbconvert_exporter": "python",
   "pygments_lexer": "ipython3",
   "version": "3.9.6"
  }
 },
 "nbformat": 4,
 "nbformat_minor": 5
}
