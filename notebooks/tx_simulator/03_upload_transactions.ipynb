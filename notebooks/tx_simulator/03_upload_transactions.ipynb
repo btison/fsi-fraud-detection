{
 "cells": [
  {
   "cell_type": "code",
   "execution_count": null,
   "id": "b87871b3",
   "metadata": {},
   "outputs": [],
   "source": [
    "import argparse\n",
    "\n",
    "from shared import upload_transactions\n"
   ]
  },
  {
   "cell_type": "code",
   "execution_count": null,
   "id": "5a0deb2a",
   "metadata": {},
   "outputs": [],
   "source": [
    "START = '2020-05-01'\n",
    "END = '2020-05-01'\n",
    "\n",
    "# FIXME: change this !\n",
    "BRIDGE = 'https://transaction-bridge-http-fsi-fraud-detection.apps.cluster-hxjfg.hxjfg.sandbox899.opentlc.com'\n"
   ]
  },
  {
   "cell_type": "code",
   "execution_count": null,
   "id": "5bc61be0",
   "metadata": {},
   "outputs": [],
   "source": [
    "print(f\" --> Replaying transactions from {START} to {END}\")\n",
    "\n",
    "upload_transactions(BRIDGE, start=START, end=END)\n",
    "\n",
    "print(\" --> DONE.\")\n"
   ]
  }
 ],
 "metadata": {
  "kernelspec": {
   "display_name": "Python 3 (ipykernel)",
   "language": "python",
   "name": "python3"
  },
  "language_info": {
   "codemirror_mode": {
    "name": "ipython",
    "version": 3
   },
   "file_extension": ".py",
   "mimetype": "text/x-python",
   "name": "python",
   "nbconvert_exporter": "python",
   "pygments_lexer": "ipython3",
   "version": "3.9.6"
  }
 },
 "nbformat": 4,
 "nbformat_minor": 5
}
