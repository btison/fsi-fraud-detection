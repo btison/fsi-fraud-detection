{
 "cells": [
  {
   "cell_type": "code",
   "execution_count": null,
   "id": "fe1bf851",
   "metadata": {},
   "outputs": [],
   "source": [
    "import os\n",
    "import datetime\n",
    "import pandas as pd\n",
    "\n",
    "from shared import read_from_pkl\n",
    "from simulator.transformer import feature_transformation\n"
   ]
  },
  {
   "cell_type": "code",
   "execution_count": null,
   "id": "55b83b5a",
   "metadata": {},
   "outputs": [],
   "source": [
    "DIR_INPUT = \"./data/simulated/pkl/\"\n",
    "DIR_OUTPUT = \"./data/simulated/training/\"\n"
   ]
  },
  {
   "cell_type": "code",
   "execution_count": null,
   "id": "bb37550a",
   "metadata": {},
   "outputs": [],
   "source": [
    "START_DATE = \"2020-04-01\"\n",
    "END_DATE = \"2020-04-30\"\n"
   ]
  },
  {
   "cell_type": "code",
   "execution_count": null,
   "id": "fc1a9995",
   "metadata": {},
   "outputs": [],
   "source": [
    "# read the raw transaction data\n",
    "transactions_df = read_from_pkl(DIR_INPUT, START_DATE, END_DATE)\n"
   ]
  },
  {
   "cell_type": "code",
   "execution_count": null,
   "id": "8da6baf5",
   "metadata": {},
   "outputs": [],
   "source": [
    "# transform transactions\n",
    "print(\"Calculating customer and terminal stats ...\")\n",
    "transactions_df = feature_transformation(transactions_df)\n"
   ]
  },
  {
   "cell_type": "code",
   "execution_count": null,
   "id": "9c6f6327",
   "metadata": {},
   "outputs": [],
   "source": [
    "print(\"Saving transformed transactions ...\")\n",
    "\n",
    "if not os.path.exists(DIR_OUTPUT):\n",
    "    os.makedirs(DIR_OUTPUT)\n",
    "\n",
    "start_date = datetime.datetime.strptime(START_DATE, \"%Y-%m-%d\")\n",
    "\n",
    "for day in range(transactions_df.TX_TIME_DAYS.max()+1):\n",
    "\n",
    "    transactions_day = transactions_df[transactions_df.TX_TIME_DAYS == day].sort_values(\n",
    "        'TX_TIME_SECONDS')\n",
    "\n",
    "    date = start_date + datetime.timedelta(days=day)\n",
    "    filename_output = date.strftime(\"%Y-%m-%d\")\n",
    "\n",
    "    # convert the datetime to unix timestamp\n",
    "    transactions_day['TX_DATETIME'] = pd.to_numeric(\n",
    "        transactions_df['TX_DATETIME'])\n",
    "    transactions_day['TX_DATETIME'] = transactions_day['TX_DATETIME'] / 1000000000\n",
    "\n",
    "    # write csv\n",
    "    transactions_day.to_csv(DIR_OUTPUT+filename_output+'.csv', index=False)\n",
    "\n",
    "print(\"done.\")\n"
   ]
  }
 ],
 "metadata": {
  "kernelspec": {
   "display_name": "Python 3 (ipykernel)",
   "language": "python",
   "name": "python3"
  },
  "language_info": {
   "codemirror_mode": {
    "name": "ipython",
    "version": 3
   },
   "file_extension": ".py",
   "mimetype": "text/x-python",
   "name": "python",
   "nbconvert_exporter": "python",
   "pygments_lexer": "ipython3",
   "version": "3.9.6"
  }
 },
 "nbformat": 4,
 "nbformat_minor": 5
}
