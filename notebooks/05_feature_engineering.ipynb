{
 "cells": [
  {
   "cell_type": "code",
   "execution_count": null,
   "id": "bc318832",
   "metadata": {},
   "outputs": [],
   "source": [
    "import os\n",
    "import sys\n",
    "import boto3\n",
    "import datetime\n",
    "import pandas as pd\n",
    "\n",
    "from pathlib import Path\n",
    "from dotenv import load_dotenv\n",
    "\n",
    "from shared import load_csv_from_dir, save_transactions_day\n",
    "\n",
    "load_dotenv()\n"
   ]
  },
  {
   "cell_type": "code",
   "execution_count": null,
   "id": "bdf88064",
   "metadata": {},
   "outputs": [],
   "source": [
    "START_DATE = os.getenv('START_DATE', '2020-04-01')\n",
    "END_DATE = os.getenv('END_DATE', '2020-04-30')"
   ]
  },
  {
   "cell_type": "code",
   "execution_count": null,
   "id": "dc0d902c",
   "metadata": {},
   "outputs": [],
   "source": [
    "def is_weekend(tx_datetime):\n",
    "\n",
    "    # Transform date into weekday (0 is Monday, 6 is Sunday)\n",
    "    weekday = tx_datetime.weekday()\n",
    "    # Binary value: 0 if weekday, 1 if weekend\n",
    "    is_weekend = weekday >= 5\n",
    "\n",
    "    return int(is_weekend)\n"
   ]
  },
  {
   "cell_type": "code",
   "execution_count": null,
   "id": "3667f53e",
   "metadata": {},
   "outputs": [],
   "source": [
    "def is_night(tx_datetime):\n",
    "\n",
    "    # Get the hour of the transaction\n",
    "    tx_hour = tx_datetime.hour\n",
    "    # Binary value: 1 if hour less than 6, and 0 otherwise\n",
    "    is_night = tx_hour <= 6\n",
    "\n",
    "    return int(is_night)\n"
   ]
  },
  {
   "cell_type": "code",
   "execution_count": null,
   "id": "74a49592",
   "metadata": {},
   "outputs": [],
   "source": [
    "def get_customer_spending_behaviour_features(customer_transactions, windows_size_in_days=[1, 7, 30]):\n",
    "\n",
    "    # Let us first order transactions chronologically\n",
    "    customer_transactions = customer_transactions.sort_values('TX_DATETIME')\n",
    "\n",
    "    # The transaction date and time is set as the index, which will allow the use of the rolling function\n",
    "    customer_transactions.index = customer_transactions.TX_DATETIME\n",
    "\n",
    "    # For each window size\n",
    "    for window_size in windows_size_in_days:\n",
    "\n",
    "        # Compute the sum of the transaction amounts and the number of transactions for the given window size\n",
    "        SUM_AMOUNT_TX_WINDOW = customer_transactions['TX_AMOUNT'].rolling(\n",
    "            str(window_size)+'d').sum()\n",
    "        NB_TX_WINDOW = customer_transactions['TX_AMOUNT'].rolling(\n",
    "            str(window_size)+'d').count()\n",
    "\n",
    "        # Compute the average transaction amount for the given window size\n",
    "        # NB_TX_WINDOW is always >0 since current transaction is always included\n",
    "        AVG_AMOUNT_TX_WINDOW = SUM_AMOUNT_TX_WINDOW/NB_TX_WINDOW\n",
    "\n",
    "        # Save feature values\n",
    "        customer_transactions['CUSTOMER_ID_NB_TX_' +\n",
    "                              str(window_size)+'DAY_WINDOW'] = list(NB_TX_WINDOW)\n",
    "        customer_transactions['CUSTOMER_ID_AVG_AMOUNT_' +\n",
    "                              str(window_size)+'DAY_WINDOW'] = list(AVG_AMOUNT_TX_WINDOW)\n",
    "\n",
    "    # Reindex according to transaction IDs\n",
    "    customer_transactions.index = customer_transactions.TRANSACTION_ID\n",
    "\n",
    "    # And return the dataframe with the new features\n",
    "    return customer_transactions\n"
   ]
  },
  {
   "cell_type": "code",
   "execution_count": null,
   "id": "70f7348b",
   "metadata": {},
   "outputs": [],
   "source": [
    "def get_count_risk_rolling_window(terminal_transactions, delay_period=7, windows_size_in_days=[1, 7, 30], feature=\"TERMINAL_ID\"):\n",
    "\n",
    "    terminal_transactions = terminal_transactions.sort_values('TX_DATETIME')\n",
    "\n",
    "    terminal_transactions.index = terminal_transactions.TX_DATETIME\n",
    "\n",
    "    NB_FRAUD_DELAY = terminal_transactions['TX_FRAUD'].rolling(\n",
    "        str(delay_period)+'d').sum()\n",
    "    NB_TX_DELAY = terminal_transactions['TX_FRAUD'].rolling(\n",
    "        str(delay_period)+'d').count()\n",
    "\n",
    "    for window_size in windows_size_in_days:\n",
    "\n",
    "        NB_FRAUD_DELAY_WINDOW = terminal_transactions['TX_FRAUD'].rolling(\n",
    "            str(delay_period+window_size)+'d').sum()\n",
    "        NB_TX_DELAY_WINDOW = terminal_transactions['TX_FRAUD'].rolling(\n",
    "            str(delay_period+window_size)+'d').count()\n",
    "\n",
    "        NB_FRAUD_WINDOW = NB_FRAUD_DELAY_WINDOW-NB_FRAUD_DELAY\n",
    "        NB_TX_WINDOW = NB_TX_DELAY_WINDOW-NB_TX_DELAY\n",
    "\n",
    "        RISK_WINDOW = NB_FRAUD_WINDOW/NB_TX_WINDOW\n",
    "\n",
    "        terminal_transactions[feature+'_NB_TX_' +\n",
    "                              str(window_size)+'DAY_WINDOW'] = list(NB_TX_WINDOW)\n",
    "        terminal_transactions[feature+'_RISK_' +\n",
    "                              str(window_size)+'DAY_WINDOW'] = list(RISK_WINDOW)\n",
    "\n",
    "    terminal_transactions.index = terminal_transactions.TRANSACTION_ID\n",
    "\n",
    "    # Replace NA values with 0 (all undefined risk scores where NB_TX_WINDOW is 0)\n",
    "    terminal_transactions.fillna(0, inplace=True)\n",
    "\n",
    "    return terminal_transactions\n"
   ]
  },
  {
   "cell_type": "code",
   "execution_count": null,
   "id": "f2eb52ea",
   "metadata": {},
   "outputs": [],
   "source": [
    "def feature_transformation(tx_df):\n",
    "    # Add two features to the transactions:\n",
    "    # The first one will characterize whether a transaction occurs during a weekday or during the weekend.\n",
    "    # The second will characterize whether a transaction occurs during the day or the night.\n",
    "\n",
    "    tx_df['TX_DURING_WEEKEND'] = tx_df.TX_DATETIME.apply(is_weekend)\n",
    "    tx_df['TX_DURING_NIGHT'] = tx_df.TX_DATETIME.apply(is_night)\n",
    "\n",
    "    # Customer ID transformations\n",
    "    # We will take inspiration from the RFM (Recency, Frequency, Monetary value)\n",
    "    # framework proposed in {cite}VANVLASSELAER201538, and compute two of these features over three time windows.\n",
    "\n",
    "    tx_df = tx_df.groupby('CUSTOMER_ID').apply(\n",
    "        lambda x: get_customer_spending_behaviour_features(x, windows_size_in_days=[1, 7, 30]))\n",
    "    tx_df = tx_df.sort_values('TX_DATETIME').reset_index(drop=True)\n",
    "\n",
    "    # Terminal ID transformations\n",
    "    # The main goal will be to extract a risk score, that assesses the exposure of a given terminal ID to fraudulent transactions.\n",
    "    # The risk score will be defined as the average number of fraudulent transactions that occurred on a terminal ID over a time window.\n",
    "\n",
    "    tx_df = tx_df.groupby('TERMINAL_ID').apply(lambda x: get_count_risk_rolling_window(\n",
    "        x, delay_period=7, windows_size_in_days=[1, 7, 30], feature=\"TERMINAL_ID\"))\n",
    "    tx_df = tx_df.sort_values('TX_DATETIME').reset_index(drop=True)\n",
    "\n",
    "    return tx_df\n"
   ]
  },
  {
   "cell_type": "code",
   "execution_count": null,
   "id": "7dea03dc",
   "metadata": {},
   "outputs": [],
   "source": [
    "def prepare(start_date, end_date, workspace='./data/', input='merged', output='training/'):\n",
    "    # load the data\n",
    "    tx_df = load_csv_from_dir(workspace + input, start_date, end_date)\n",
    "    tx_df['TX_DATETIME'] = pd.to_datetime(tx_df['TX_DATETIME'])\n",
    "\n",
    "    # add data that will help with the model training\n",
    "    tx_df = feature_transformation(tx_df)\n",
    "\n",
    "    # save the enriched data, grouped by day\n",
    "    save_transactions_day(tx_df, start_date, output_dir=workspace + output)\n"
   ]
  },
  {
   "cell_type": "code",
   "execution_count": null,
   "id": "4f53c33c",
   "metadata": {},
   "outputs": [],
   "source": [
    "prepare(START_DATE, END_DATE)"
   ]
  }
 ],
 "metadata": {
  "kernelspec": {
   "display_name": "Python 3.9.12 ('venv': venv)",
   "language": "python",
   "name": "python3"
  },
  "language_info": {
   "codemirror_mode": {
    "name": "ipython",
    "version": 3
   },
   "file_extension": ".py",
   "mimetype": "text/x-python",
   "name": "python",
   "nbconvert_exporter": "python",
   "pygments_lexer": "ipython3",
   "version": "3.9.12"
  },
  "vscode": {
   "interpreter": {
    "hash": "fb07a80f420f2a3c6f994f3d4ceda3af88f46f0442cb787adf66c08d5cc259f7"
   }
  }
 },
 "nbformat": 4,
 "nbformat_minor": 5
}
