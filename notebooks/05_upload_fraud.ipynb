{
 "cells": [
  {
   "cell_type": "code",
   "execution_count": null,
   "id": "b87871b3",
   "metadata": {},
   "outputs": [],
   "source": [
    "import argparse\n",
    "\n",
    "from simulator.shared import upload_fraud\n"
   ]
  },
  {
   "cell_type": "code",
   "execution_count": null,
   "id": "5a0deb2a",
   "metadata": {},
   "outputs": [],
   "source": [
    "START = '2020-04-01'\n",
    "END = '2020-04-01'\n",
    "\n",
    "# FIXME: change this !\n",
    "BRIDGE = 'https://transaction-bridge-http-fsi-fraud-detection.apps.cluster-hxjfg.hxjfg.sandbox899.opentlc.com'\n"
   ]
  },
  {
   "cell_type": "code",
   "execution_count": null,
   "id": "5bc61be0",
   "metadata": {},
   "outputs": [],
   "source": [
    "print(f\" --> Uploading fraud data from {START} to {END}\")\n",
    "\n",
    "upload_fraud(BRIDGE, start=START, end=END)\n",
    "\n",
    "print(\" --> DONE.\")\n"
   ]
  }
 ],
 "metadata": {
  "kernelspec": {
   "display_name": "Python 3.9.12 ('venv': venv)",
   "language": "python",
   "name": "python3"
  },
  "language_info": {
   "codemirror_mode": {
    "name": "ipython",
    "version": 3
   },
   "file_extension": ".py",
   "mimetype": "text/x-python",
   "name": "python",
   "nbconvert_exporter": "python",
   "pygments_lexer": "ipython3",
   "version": "3.9.12"
  },
  "vscode": {
   "interpreter": {
    "hash": "fb07a80f420f2a3c6f994f3d4ceda3af88f46f0442cb787adf66c08d5cc259f7"
   }
  }
 },
 "nbformat": 4,
 "nbformat_minor": 5
}
