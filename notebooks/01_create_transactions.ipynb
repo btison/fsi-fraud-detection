{
 "cells": [
  {
   "cell_type": "code",
   "execution_count": null,
   "id": "e9703b01",
   "metadata": {},
   "outputs": [],
   "source": [
    "import os\n",
    "import datetime\n",
    "\n",
    "from generator import generate_dataset, add_frauds\n"
   ]
  },
  {
   "cell_type": "code",
   "execution_count": null,
   "id": "c8649ec9",
   "metadata": {},
   "outputs": [],
   "source": [
    "N_CUSTOMERS = 5000\n",
    "N_TERMINALS = 10000\n",
    "N_DAYS = 183\n",
    "\n",
    "START_DATE = \"2020-04-01\"\n"
   ]
  },
  {
   "cell_type": "code",
   "execution_count": null,
   "id": "96ab7ce1",
   "metadata": {},
   "outputs": [],
   "source": [
    "DIR_OUTPUT = \"./data/simulated/\"\n",
    "\n",
    "# make sure the dirs exist\n",
    "if not os.path.exists(DIR_OUTPUT):\n",
    "    os.makedirs(DIR_OUTPUT)\n",
    "    os.makedirs(DIR_OUTPUT + 'pkl/')\n",
    "    os.makedirs(DIR_OUTPUT + 'csv/')\n"
   ]
  },
  {
   "cell_type": "code",
   "execution_count": null,
   "id": "581587e7",
   "metadata": {},
   "outputs": [],
   "source": [
    "# create the transactions\n",
    "(customer_profiles_table, terminal_profiles_table, transactions_df) = generate_dataset(\n",
    "    n_customers=N_CUSTOMERS, n_terminals=N_TERMINALS, nb_days=N_DAYS, start_date=START_DATE, r=5)\n"
   ]
  },
  {
   "cell_type": "code",
   "execution_count": null,
   "id": "bb5c2314",
   "metadata": {},
   "outputs": [],
   "source": [
    "# add fraud scenarios to the tx data\n",
    "transactions_df = add_frauds(\n",
    "    customer_profiles_table, terminal_profiles_table, transactions_df)\n"
   ]
  },
  {
   "cell_type": "code",
   "execution_count": null,
   "id": "80d2c3a5",
   "metadata": {},
   "outputs": [],
   "source": [
    "# save simulated tx data\n",
    "start_date = datetime.datetime.strptime(START_DATE, \"%Y-%m-%d\")\n",
    "\n",
    "for day in range(transactions_df.TX_TIME_DAYS.max()+1):\n",
    "\n",
    "    transactions_day = transactions_df[transactions_df.TX_TIME_DAYS == day].sort_values(\n",
    "        'TX_TIME_SECONDS')\n",
    "\n",
    "    date = start_date + datetime.timedelta(days=day)\n",
    "    filename_output = date.strftime(\"%Y-%m-%d\")\n",
    "\n",
    "    transactions_day.to_pickle(\n",
    "        DIR_OUTPUT + \"pkl/\" + filename_output + '.pkl', protocol=4)\n",
    "    transactions_day.to_csv(DIR_OUTPUT + \"csv/\" +\n",
    "                            filename_output + '.csv', index=False)\n"
   ]
  },
  {
   "cell_type": "code",
   "execution_count": null,
   "id": "c34702a5",
   "metadata": {},
   "outputs": [],
   "source": [
    "# also save the customer and terminal data\n",
    "terminal_profiles_table.to_pickle(\n",
    "    DIR_OUTPUT+'terminal_profiles_table.pkl', protocol=4)\n",
    "customer_profiles_table.to_pickle(\n",
    "    DIR_OUTPUT+'customer_profiles_table.pkl', protocol=4)\n"
   ]
  }
 ],
 "metadata": {
  "kernelspec": {
   "display_name": "Python 3 (ipykernel)",
   "language": "python",
   "name": "python3"
  },
  "language_info": {
   "codemirror_mode": {
    "name": "ipython",
    "version": 3
   },
   "file_extension": ".py",
   "mimetype": "text/x-python",
   "name": "python",
   "nbconvert_exporter": "python",
   "pygments_lexer": "ipython3",
   "version": "3.9.6"
  }
 },
 "nbformat": 4,
 "nbformat_minor": 5
}
