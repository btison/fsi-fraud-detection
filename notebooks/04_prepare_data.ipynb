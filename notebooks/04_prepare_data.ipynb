{
 "cells": [
  {
   "cell_type": "code",
   "execution_count": null,
   "id": "bc318832",
   "metadata": {},
   "outputs": [],
   "source": [
    "import os\n",
    "import sys\n",
    "import boto3\n",
    "import pandas as pd\n",
    "\n",
    "from pathlib import Path\n",
    "from dotenv import load_dotenv\n",
    "\n",
    "from simulator.shared import load_transactions, read_from_pkl\n",
    "\n",
    "load_dotenv()\n"
   ]
  },
  {
   "cell_type": "code",
   "execution_count": null,
   "id": "bdf88064",
   "metadata": {},
   "outputs": [],
   "source": [
    "local_prefix='./data/'"
   ]
  },
  {
   "cell_type": "code",
   "execution_count": null,
   "id": "df5e9ed1",
   "metadata": {},
   "outputs": [],
   "source": [
    "def download_folder(key, bucket_name='fsi-fraud-detection', local_prefix='./data/'):\n",
    "    s3 = boto3.resource('s3')\n",
    "    bucket = s3.Bucket(bucket_name)\n",
    "\n",
    "    objs = list(bucket.objects.filter(Prefix=key))\n",
    "\n",
    "    for obj in objs:\n",
    "        # remove the file name from the object key\n",
    "        obj_path = f\"{local_prefix}{os.path.dirname(obj.key)}\"\n",
    "        # create nested directory structure\n",
    "        Path(obj_path).mkdir(parents=True, exist_ok=True)\n",
    "        # save file with full path locally\n",
    "        bucket.download_file(obj.key, local_prefix + obj.key)"
   ]
  },
  {
   "cell_type": "code",
   "execution_count": null,
   "id": "d4b50fe5",
   "metadata": {},
   "outputs": [],
   "source": [
    "# get all the data from S3\n",
    "download_folder('archive')\n",
    "download_folder('fraud')"
   ]
  },
  {
   "cell_type": "code",
   "execution_count": null,
   "id": "3a98d2b6",
   "metadata": {},
   "outputs": [],
   "source": [
    "input_dir = local_prefix + 'fraud'\n",
    "files = [os.path.join(input_dir, f) for f in os.listdir(input_dir)]\n",
    "\n",
    "fraud_df = load_transactions(files)\n",
    "fraud_df.head(10)"
   ]
  },
  {
   "cell_type": "code",
   "execution_count": null,
   "id": "bc60ad27",
   "metadata": {},
   "outputs": [],
   "source": [
    "input_dir = local_prefix + 'archive'\n",
    "files = [os.path.join(input_dir, f) for f in os.listdir(input_dir)]\n",
    "\n",
    "tx_df = load_transactions(files)\n",
    "tx_df.head(10)"
   ]
  }
 ],
 "metadata": {
  "kernelspec": {
   "display_name": "Python 3.9.12 ('venv': venv)",
   "language": "python",
   "name": "python3"
  },
  "language_info": {
   "codemirror_mode": {
    "name": "ipython",
    "version": 3
   },
   "file_extension": ".py",
   "mimetype": "text/x-python",
   "name": "python",
   "nbconvert_exporter": "python",
   "pygments_lexer": "ipython3",
   "version": "3.9.12"
  },
  "vscode": {
   "interpreter": {
    "hash": "fb07a80f420f2a3c6f994f3d4ceda3af88f46f0442cb787adf66c08d5cc259f7"
   }
  }
 },
 "nbformat": 4,
 "nbformat_minor": 5
}
